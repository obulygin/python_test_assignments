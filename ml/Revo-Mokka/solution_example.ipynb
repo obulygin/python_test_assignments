{
 "cells": [
  {
   "cell_type": "code",
   "execution_count": 1,
   "metadata": {},
   "outputs": [],
   "source": [
    "%matplotlib inline\n",
    "import pandas as pd\n",
    "import numpy as np\n",
    "import re\n",
    "import matplotlib.pyplot as plt\n",
    "import seaborn as sns\n",
    "import xgboost\n",
    "\n",
    "from sklearn.feature_extraction.text import CountVectorizer\n",
    "from sklearn.model_selection import train_test_split\n",
    "from sklearn.linear_model import LogisticRegression\n",
    "from sklearn.metrics import accuracy_score\n",
    "import sklearn.metrics\n",
    "from sklearn.metrics import roc_auc_score\n",
    "\n",
    "\n",
    "\n",
    "import warnings\n",
    "warnings.filterwarnings('ignore')"
   ]
  },
  {
   "cell_type": "code",
   "execution_count": 2,
   "metadata": {},
   "outputs": [],
   "source": [
    "data = pd.read_csv('revo_ds_test_task.csv')"
   ]
  },
  {
   "cell_type": "code",
   "execution_count": 3,
   "metadata": {},
   "outputs": [
    {
     "data": {
      "text/html": [
       "<div>\n",
       "<style scoped>\n",
       "    .dataframe tbody tr th:only-of-type {\n",
       "        vertical-align: middle;\n",
       "    }\n",
       "\n",
       "    .dataframe tbody tr th {\n",
       "        vertical-align: top;\n",
       "    }\n",
       "\n",
       "    .dataframe thead th {\n",
       "        text-align: right;\n",
       "    }\n",
       "</style>\n",
       "<table border=\"1\" class=\"dataframe\">\n",
       "  <thead>\n",
       "    <tr style=\"text-align: right;\">\n",
       "      <th></th>\n",
       "      <th>loanKey</th>\n",
       "      <th>rep_loan_date</th>\n",
       "      <th>first_loan</th>\n",
       "      <th>dpd_5_cnt</th>\n",
       "      <th>dpd_15_cnt</th>\n",
       "      <th>dpd_30_cnt</th>\n",
       "      <th>first_overdue_date</th>\n",
       "      <th>close_loans_cnt</th>\n",
       "      <th>federal_district_nm</th>\n",
       "      <th>TraderKey</th>\n",
       "      <th>...</th>\n",
       "      <th>payment_type_2</th>\n",
       "      <th>payment_type_3</th>\n",
       "      <th>payment_type_4</th>\n",
       "      <th>payment_type_5</th>\n",
       "      <th>past_billings_cnt</th>\n",
       "      <th>score_1</th>\n",
       "      <th>score_2</th>\n",
       "      <th>age</th>\n",
       "      <th>gender</th>\n",
       "      <th>bad_flag</th>\n",
       "    </tr>\n",
       "  </thead>\n",
       "  <tbody>\n",
       "    <tr>\n",
       "      <th>0</th>\n",
       "      <td>708382</td>\n",
       "      <td>2016-10-06</td>\n",
       "      <td>2015-11-13</td>\n",
       "      <td>NaN</td>\n",
       "      <td>NaN</td>\n",
       "      <td>NaN</td>\n",
       "      <td>NaN</td>\n",
       "      <td>3.0</td>\n",
       "      <td>region_6</td>\n",
       "      <td>6</td>\n",
       "      <td>...</td>\n",
       "      <td>10</td>\n",
       "      <td>0</td>\n",
       "      <td>0</td>\n",
       "      <td>0</td>\n",
       "      <td>10.0</td>\n",
       "      <td>NaN</td>\n",
       "      <td>NaN</td>\n",
       "      <td>21.0</td>\n",
       "      <td>False</td>\n",
       "      <td>0</td>\n",
       "    </tr>\n",
       "    <tr>\n",
       "      <th>1</th>\n",
       "      <td>406305</td>\n",
       "      <td>2016-03-26</td>\n",
       "      <td>2015-09-28</td>\n",
       "      <td>1.0</td>\n",
       "      <td>0.0</td>\n",
       "      <td>0.0</td>\n",
       "      <td>2016-01-30</td>\n",
       "      <td>0.0</td>\n",
       "      <td>region_6</td>\n",
       "      <td>6</td>\n",
       "      <td>...</td>\n",
       "      <td>6</td>\n",
       "      <td>0</td>\n",
       "      <td>0</td>\n",
       "      <td>0</td>\n",
       "      <td>5.0</td>\n",
       "      <td>NaN</td>\n",
       "      <td>NaN</td>\n",
       "      <td>20.0</td>\n",
       "      <td>False</td>\n",
       "      <td>0</td>\n",
       "    </tr>\n",
       "    <tr>\n",
       "      <th>2</th>\n",
       "      <td>779736</td>\n",
       "      <td>2016-10-30</td>\n",
       "      <td>2015-12-21</td>\n",
       "      <td>NaN</td>\n",
       "      <td>NaN</td>\n",
       "      <td>NaN</td>\n",
       "      <td>NaN</td>\n",
       "      <td>2.0</td>\n",
       "      <td>region_1</td>\n",
       "      <td>6</td>\n",
       "      <td>...</td>\n",
       "      <td>0</td>\n",
       "      <td>5</td>\n",
       "      <td>0</td>\n",
       "      <td>0</td>\n",
       "      <td>5.0</td>\n",
       "      <td>NaN</td>\n",
       "      <td>NaN</td>\n",
       "      <td>19.0</td>\n",
       "      <td>False</td>\n",
       "      <td>0</td>\n",
       "    </tr>\n",
       "    <tr>\n",
       "      <th>3</th>\n",
       "      <td>556376</td>\n",
       "      <td>2016-06-29</td>\n",
       "      <td>2015-06-30</td>\n",
       "      <td>NaN</td>\n",
       "      <td>NaN</td>\n",
       "      <td>NaN</td>\n",
       "      <td>NaN</td>\n",
       "      <td>1.0</td>\n",
       "      <td>region_6</td>\n",
       "      <td>14</td>\n",
       "      <td>...</td>\n",
       "      <td>4</td>\n",
       "      <td>0</td>\n",
       "      <td>0</td>\n",
       "      <td>0</td>\n",
       "      <td>6.0</td>\n",
       "      <td>NaN</td>\n",
       "      <td>NaN</td>\n",
       "      <td>21.0</td>\n",
       "      <td>False</td>\n",
       "      <td>0</td>\n",
       "    </tr>\n",
       "    <tr>\n",
       "      <th>4</th>\n",
       "      <td>266968</td>\n",
       "      <td>2015-12-01</td>\n",
       "      <td>2015-08-03</td>\n",
       "      <td>NaN</td>\n",
       "      <td>NaN</td>\n",
       "      <td>NaN</td>\n",
       "      <td>NaN</td>\n",
       "      <td>0.0</td>\n",
       "      <td>region_5</td>\n",
       "      <td>22</td>\n",
       "      <td>...</td>\n",
       "      <td>0</td>\n",
       "      <td>0</td>\n",
       "      <td>0</td>\n",
       "      <td>0</td>\n",
       "      <td>3.0</td>\n",
       "      <td>NaN</td>\n",
       "      <td>NaN</td>\n",
       "      <td>33.0</td>\n",
       "      <td>False</td>\n",
       "      <td>0</td>\n",
       "    </tr>\n",
       "  </tbody>\n",
       "</table>\n",
       "<p>5 rows × 22 columns</p>\n",
       "</div>"
      ],
      "text/plain": [
       "   loanKey rep_loan_date  first_loan  dpd_5_cnt  dpd_15_cnt  dpd_30_cnt  \\\n",
       "0   708382    2016-10-06  2015-11-13        NaN         NaN         NaN   \n",
       "1   406305    2016-03-26  2015-09-28        1.0         0.0         0.0   \n",
       "2   779736    2016-10-30  2015-12-21        NaN         NaN         NaN   \n",
       "3   556376    2016-06-29  2015-06-30        NaN         NaN         NaN   \n",
       "4   266968    2015-12-01  2015-08-03        NaN         NaN         NaN   \n",
       "\n",
       "  first_overdue_date  close_loans_cnt federal_district_nm  TraderKey  \\\n",
       "0                NaN              3.0            region_6          6   \n",
       "1         2016-01-30              0.0            region_6          6   \n",
       "2                NaN              2.0            region_1          6   \n",
       "3                NaN              1.0            region_6         14   \n",
       "4                NaN              0.0            region_5         22   \n",
       "\n",
       "     ...     payment_type_2  payment_type_3  payment_type_4  payment_type_5  \\\n",
       "0    ...                 10               0               0               0   \n",
       "1    ...                  6               0               0               0   \n",
       "2    ...                  0               5               0               0   \n",
       "3    ...                  4               0               0               0   \n",
       "4    ...                  0               0               0               0   \n",
       "\n",
       "   past_billings_cnt  score_1  score_2   age  gender  bad_flag  \n",
       "0               10.0      NaN      NaN  21.0   False         0  \n",
       "1                5.0      NaN      NaN  20.0   False         0  \n",
       "2                5.0      NaN      NaN  19.0   False         0  \n",
       "3                6.0      NaN      NaN  21.0   False         0  \n",
       "4                3.0      NaN      NaN  33.0   False         0  \n",
       "\n",
       "[5 rows x 22 columns]"
      ]
     },
     "execution_count": 3,
     "metadata": {},
     "output_type": "execute_result"
    }
   ],
   "source": [
    "data.head()"
   ]
  },
  {
   "cell_type": "code",
   "execution_count": 4,
   "metadata": {},
   "outputs": [
    {
     "data": {
      "text/plain": [
       "loanKey                  int64\n",
       "rep_loan_date           object\n",
       "first_loan              object\n",
       "dpd_5_cnt              float64\n",
       "dpd_15_cnt             float64\n",
       "dpd_30_cnt             float64\n",
       "first_overdue_date      object\n",
       "close_loans_cnt        float64\n",
       "federal_district_nm     object\n",
       "TraderKey                int64\n",
       "payment_type_0           int64\n",
       "payment_type_1           int64\n",
       "payment_type_2           int64\n",
       "payment_type_3           int64\n",
       "payment_type_4           int64\n",
       "payment_type_5           int64\n",
       "past_billings_cnt      float64\n",
       "score_1                float64\n",
       "score_2                float64\n",
       "age                    float64\n",
       "gender                    bool\n",
       "bad_flag                 int64\n",
       "dtype: object"
      ]
     },
     "execution_count": 4,
     "metadata": {},
     "output_type": "execute_result"
    }
   ],
   "source": [
    "data.dtypes"
   ]
  },
  {
   "cell_type": "code",
   "execution_count": 5,
   "metadata": {},
   "outputs": [
    {
     "name": "stdout",
     "output_type": "stream",
     "text": [
      "loanKey                   0\n",
      "rep_loan_date             0\n",
      "first_loan                0\n",
      "dpd_5_cnt              3482\n",
      "dpd_15_cnt             3482\n",
      "dpd_30_cnt             3482\n",
      "first_overdue_date     3482\n",
      "close_loans_cnt           0\n",
      "federal_district_nm      11\n",
      "TraderKey                 0\n",
      "payment_type_0            0\n",
      "payment_type_1            0\n",
      "payment_type_2            0\n",
      "payment_type_3            0\n",
      "payment_type_4            0\n",
      "payment_type_5            0\n",
      "past_billings_cnt         0\n",
      "score_1                 650\n",
      "score_2                3918\n",
      "age                       0\n",
      "gender                    0\n",
      "bad_flag                  0\n",
      "dtype: int64\n"
     ]
    }
   ],
   "source": [
    "data.close_loans_cnt.fillna(data.close_loans_cnt.mean(), inplace=True)\n",
    "data.past_billings_cnt.fillna(0, inplace=True)\n",
    "# Count the number of NaN values in each column\n",
    "print(data.isnull().sum())"
   ]
  },
  {
   "cell_type": "code",
   "execution_count": 6,
   "metadata": {},
   "outputs": [],
   "source": [
    "data[\"rep_loan_date\"] = pd.to_datetime(data[\"rep_loan_date\"])\n",
    "data[\"first_loan\"] = pd.to_datetime(data[\"first_loan\"])\n",
    "data[\"first_overdue_date\"] = pd.to_datetime(data[\"first_overdue_date\"])\n",
    "data[\"TraderKey\"] = pd.to_numeric(data[\"TraderKey\"], downcast='signed')\n",
    "data[\"past_billings_cnt\"] = data[\"past_billings_cnt\"].astype(int)\n",
    "data[\"age\"] = data[\"age\"].astype(int)\n",
    "data['federal_district_nm'] = data['federal_district_nm'].astype('category')"
   ]
  },
  {
   "cell_type": "code",
   "execution_count": 7,
   "metadata": {},
   "outputs": [],
   "source": [
    "data['first_loan_year']= data['first_loan'].apply(lambda x: x.year)\n",
    "data['first_loan_month'] = data['first_loan'].apply(lambda x: x.month)\n",
    "data['first_loan_day'] = data['first_loan'].apply(lambda x: x.day)\n",
    "\n",
    "data['rep_loan_date_year']= data['rep_loan_date'].apply(lambda x: x.year)\n",
    "data['rep_loan_date_month'] = data['rep_loan_date'].apply(lambda x: x.month)\n",
    "data['rep_loan_date_day'] = data['rep_loan_date'].apply(lambda x: x.day)\n",
    "\n",
    "data['first_overdue_year']= data['first_overdue_date'].apply(lambda x: x.year)\n",
    "data['first_overdue_month'] = data['first_overdue_date'].apply(lambda x: x.month)\n",
    "data['first_overdue_day'] = data['first_overdue_date'].apply(lambda x: x.day)"
   ]
  },
  {
   "cell_type": "code",
   "execution_count": 8,
   "metadata": {},
   "outputs": [
    {
     "name": "stdout",
     "output_type": "stream",
     "text": [
      "The following columns were deleted: ['loanKey']\n"
     ]
    }
   ],
   "source": [
    "# Cleaning\n",
    "list_del =['loanKey']\n",
    "for i in data.columns:\n",
    "    if data[i].isnull().sum() == data.shape[0]: # or len(data[i].unique()) < 3\n",
    "        list_del.append(i)\n",
    "data.drop(list_del, axis=1, inplace=True)\n",
    "print('The following columns were deleted:', list_del)"
   ]
  },
  {
   "cell_type": "code",
   "execution_count": 9,
   "metadata": {},
   "outputs": [],
   "source": [
    "from datetime import datetime\n",
    "data['Difference'] = (data['first_overdue_date'] - data['first_loan']).dt.days\n",
    "data['Recurrence'] = (data['rep_loan_date'] - data['first_loan']).dt.days"
   ]
  },
  {
   "cell_type": "code",
   "execution_count": 10,
   "metadata": {},
   "outputs": [
    {
     "name": "stdout",
     "output_type": "stream",
     "text": [
      "rep_loan_date             0\n",
      "first_loan                0\n",
      "dpd_5_cnt              3482\n",
      "dpd_15_cnt             3482\n",
      "dpd_30_cnt             3482\n",
      "first_overdue_date        0\n",
      "close_loans_cnt           0\n",
      "federal_district_nm      11\n",
      "TraderKey                 0\n",
      "payment_type_0            0\n",
      "payment_type_1            0\n",
      "payment_type_2            0\n",
      "payment_type_3            0\n",
      "payment_type_4            0\n",
      "payment_type_5            0\n",
      "past_billings_cnt         0\n",
      "score_1                 650\n",
      "score_2                3918\n",
      "age                       0\n",
      "gender                    0\n",
      "bad_flag                  0\n",
      "first_loan_year           0\n",
      "first_loan_month          0\n",
      "first_loan_day            0\n",
      "rep_loan_date_year        0\n",
      "rep_loan_date_month       0\n",
      "rep_loan_date_day         0\n",
      "first_overdue_year     3482\n",
      "first_overdue_month    3482\n",
      "first_overdue_day      3482\n",
      "Difference             3482\n",
      "Recurrence                0\n",
      "dtype: int64\n"
     ]
    }
   ],
   "source": [
    "# See the missing values\n",
    "print(data.isnull().sum())"
   ]
  },
  {
   "cell_type": "code",
   "execution_count": 11,
   "metadata": {},
   "outputs": [
    {
     "data": {
      "text/plain": [
       "(4157, 32)"
      ]
     },
     "execution_count": 11,
     "metadata": {},
     "output_type": "execute_result"
    }
   ],
   "source": [
    "data = data.dropna(how='all')    #to drop if all values in the row are nan\n",
    "data.shape"
   ]
  },
  {
   "cell_type": "code",
   "execution_count": 12,
   "metadata": {},
   "outputs": [],
   "source": [
    "def create_dummy(column):\n",
    "    global data\n",
    "    dummy_ranks = pd.get_dummies(data[column], prefix=column, dtype=bool)\n",
    "    # Create dummy variables for the regression\n",
    "    cols_to_keep = list(data.columns.values)\n",
    "    data = data[cols_to_keep].join(dummy_ranks.ix[:, column:])\n",
    "    data.drop(column, axis=1, inplace=True)"
   ]
  },
  {
   "cell_type": "code",
   "execution_count": 13,
   "metadata": {},
   "outputs": [],
   "source": [
    "create_dummy(\"federal_district_nm\")\n",
    "create_dummy(\"dpd_5_cnt\")\n",
    "create_dummy(\"dpd_15_cnt\")\n",
    "create_dummy(\"dpd_30_cnt\")"
   ]
  },
  {
   "cell_type": "code",
   "execution_count": 14,
   "metadata": {},
   "outputs": [],
   "source": [
    "data[\"Difference\"].fillna(0, inplace=True)\n",
    "data[\"first_overdue_year\"].fillna(0, inplace=True)\n",
    "data[\"first_overdue_month\"].fillna(0, inplace=True)\n",
    "data[\"first_overdue_day\"].fillna(0, inplace=True)"
   ]
  },
  {
   "cell_type": "markdown",
   "metadata": {},
   "source": [
    "# Balance the dataset"
   ]
  },
  {
   "cell_type": "code",
   "execution_count": 15,
   "metadata": {},
   "outputs": [
    {
     "data": {
      "text/plain": [
       "0    3740\n",
       "1     417\n",
       "Name: bad_flag, dtype: int64"
      ]
     },
     "execution_count": 15,
     "metadata": {},
     "output_type": "execute_result"
    }
   ],
   "source": [
    "from sklearn.utils import resample\n",
    "data['bad_flag'].value_counts()"
   ]
  },
  {
   "cell_type": "code",
   "execution_count": 16,
   "metadata": {},
   "outputs": [],
   "source": [
    "# Separate majority and minority classes\n",
    "df_majority = data[data.bad_flag==0]\n",
    "df_minority = data[data.bad_flag==1]\n",
    " \n",
    "# Upsample minority class\n",
    "df_minority_upsampled = resample(df_minority, \n",
    "                                 replace=True,     # sample with replacement\n",
    "                                 n_samples=3740,    # to match majority class\n",
    "                                 random_state=123) # reproducible results"
   ]
  },
  {
   "cell_type": "code",
   "execution_count": 17,
   "metadata": {},
   "outputs": [
    {
     "data": {
      "text/plain": [
       "1    3740\n",
       "0    3740\n",
       "Name: bad_flag, dtype: int64"
      ]
     },
     "execution_count": 17,
     "metadata": {},
     "output_type": "execute_result"
    }
   ],
   "source": [
    "# Combine majority class with upsampled minority class\n",
    "df_upsampled = pd.concat([df_majority, df_minority_upsampled])\n",
    "\n",
    "# Display new class counts\n",
    "df_upsampled.bad_flag.value_counts()"
   ]
  },
  {
   "cell_type": "code",
   "execution_count": 18,
   "metadata": {},
   "outputs": [],
   "source": [
    "from sklearn.utils import shuffle\n",
    "df_upsampled = shuffle(df_upsampled, random_state=0)"
   ]
  },
  {
   "cell_type": "markdown",
   "metadata": {},
   "source": [
    "# Splitting the data"
   ]
  },
  {
   "cell_type": "code",
   "execution_count": 19,
   "metadata": {},
   "outputs": [],
   "source": [
    "columns = df_upsampled.columns.tolist()\n",
    "columns = [c for c in columns if c not in [\"rep_loan_date\", 'first_loan', \"first_overdue_date\", \n",
    "                                           \"bad_flag\", \"score_1\", \"score_2\", \"past_billings_cnt\"]]"
   ]
  },
  {
   "cell_type": "code",
   "execution_count": 20,
   "metadata": {},
   "outputs": [
    {
     "name": "stdout",
     "output_type": "stream",
     "text": [
      "(5984, 47) (5984,)\n",
      "(1496, 47) (1496,)\n"
     ]
    }
   ],
   "source": [
    "y = df_upsampled.bad_flag\n",
    "X_train, X_test, y_train, y_test = train_test_split(df_upsampled[columns], y, test_size=0.2)\n",
    "print(X_train.shape, y_train.shape)\n",
    "print(X_test.shape, y_test.shape)"
   ]
  },
  {
   "cell_type": "markdown",
   "metadata": {},
   "source": [
    "# Logistic regression"
   ]
  },
  {
   "cell_type": "code",
   "execution_count": 21,
   "metadata": {},
   "outputs": [
    {
     "name": "stdout",
     "output_type": "stream",
     "text": [
      "Accuracy for logistic regression: 67.45\n"
     ]
    }
   ],
   "source": [
    "from sklearn.linear_model import LogisticRegression\n",
    "from sklearn import metrics\n",
    "model1 = LogisticRegression()\n",
    "model1.fit(X_train, y_train)\n",
    "y_pred1 = model1.predict(X_test)\n",
    "print(\"Accuracy for logistic regression: %.2f\" % (model1.score(X_test, y_test) * 100))"
   ]
  },
  {
   "cell_type": "code",
   "execution_count": 22,
   "metadata": {},
   "outputs": [
    {
     "name": "stdout",
     "output_type": "stream",
     "text": [
      "10-fold cross validation average accuracy: 67.680\n"
     ]
    }
   ],
   "source": [
    "# evaluate the model using 10-fold cross-validation\n",
    "from sklearn import model_selection\n",
    "from sklearn.model_selection import cross_val_score\n",
    "results = model_selection.cross_val_score(model1, X_train, y_train, cv=10, scoring='accuracy')\n",
    "print(\"10-fold cross validation average accuracy: %.3f\" % (results.mean()* 100))"
   ]
  },
  {
   "cell_type": "code",
   "execution_count": 23,
   "metadata": {},
   "outputs": [
    {
     "name": "stdout",
     "output_type": "stream",
     "text": [
      "[[502 260]\n",
      " [227 507]]\n"
     ]
    }
   ],
   "source": [
    "from sklearn.metrics import confusion_matrix\n",
    "confusion_matrix = confusion_matrix(y_test, y_pred1)\n",
    "print(confusion_matrix)"
   ]
  },
  {
   "cell_type": "code",
   "execution_count": 24,
   "metadata": {},
   "outputs": [
    {
     "name": "stdout",
     "output_type": "stream",
     "text": [
      "             precision    recall  f1-score   support\n",
      "\n",
      "          0       0.69      0.66      0.67       762\n",
      "          1       0.66      0.69      0.68       734\n",
      "\n",
      "avg / total       0.68      0.67      0.67      1496\n",
      "\n"
     ]
    }
   ],
   "source": [
    "from sklearn.metrics import classification_report\n",
    "print(classification_report(y_test, y_pred1))"
   ]
  },
  {
   "cell_type": "code",
   "execution_count": 25,
   "metadata": {},
   "outputs": [
    {
     "data": {
      "image/png": "[encoded data removed]",
      "text/plain": [
       "<Figure size 432x288 with 1 Axes>"
      ]
     },
     "metadata": {},
     "output_type": "display_data"
    }
   ],
   "source": [
    "from sklearn.metrics import roc_auc_score\n",
    "from sklearn.metrics import roc_curve\n",
    "logit_roc_auc = roc_auc_score(y_test, model1.predict(X_test))\n",
    "fpr, tpr, thresholds = roc_curve(y_test, model1.predict_proba(X_test)[:,1])\n",
    "plt.figure()\n",
    "plt.plot(fpr, tpr, label='Logistic Regression (area = %0.2f)' % logit_roc_auc)\n",
    "plt.plot([0, 1], [0, 1],'r--')\n",
    "plt.xlim([0.0, 1.0])\n",
    "plt.ylim([0.0, 1.05])\n",
    "plt.xlabel('False Positive Rate')\n",
    "plt.ylabel('True Positive Rate')\n",
    "plt.title('Receiver operating characteristic')\n",
    "plt.legend(loc=\"lower right\")\n",
    "plt.savefig('Log_ROC')\n",
    "plt.show()"
   ]
  },
  {
   "cell_type": "markdown",
   "metadata": {},
   "source": [
    "# Random forest"
   ]
  },
  {
   "cell_type": "code",
   "execution_count": 26,
   "metadata": {},
   "outputs": [
    {
     "name": "stdout",
     "output_type": "stream",
     "text": [
      "Accuracy for random forest: 98.80\n"
     ]
    }
   ],
   "source": [
    "from sklearn.ensemble import RandomForestClassifier\n",
    "\n",
    "model2 = RandomForestClassifier(n_estimators = 100)\n",
    "model2 = model2.fit(X_train, y_train)\n",
    "y_pred2 = model2.predict(X_test)\n",
    "print(\"Accuracy for random forest: %.2f\" % (model2.score(X_test, y_test) * 100))"
   ]
  },
  {
   "cell_type": "code",
   "execution_count": 27,
   "metadata": {},
   "outputs": [
    {
     "name": "stdout",
     "output_type": "stream",
     "text": [
      "10-fold cross validation average accuracy: 98.479\n"
     ]
    }
   ],
   "source": [
    "# evaluate the model using 10-fold cross-validation\n",
    "results = model_selection.cross_val_score(model2, X_train, y_train, cv=10, scoring='accuracy')\n",
    "print(\"10-fold cross validation average accuracy: %.3f\" % (results.mean()* 100))"
   ]
  },
  {
   "cell_type": "code",
   "execution_count": 28,
   "metadata": {},
   "outputs": [
    {
     "name": "stdout",
     "output_type": "stream",
     "text": [
      "[[744  18]\n",
      " [  0 734]]\n"
     ]
    }
   ],
   "source": [
    "from sklearn.metrics import confusion_matrix\n",
    "confusion_matrix = confusion_matrix(y_test, y_pred2)\n",
    "print(confusion_matrix)"
   ]
  },
  {
   "cell_type": "code",
   "execution_count": 29,
   "metadata": {},
   "outputs": [
    {
     "name": "stdout",
     "output_type": "stream",
     "text": [
      "             precision    recall  f1-score   support\n",
      "\n",
      "          0       0.69      0.66      0.67       762\n",
      "          1       0.66      0.69      0.68       734\n",
      "\n",
      "avg / total       0.68      0.67      0.67      1496\n",
      "\n"
     ]
    }
   ],
   "source": [
    "print(classification_report(y_test, y_pred1))"
   ]
  },
  {
   "cell_type": "code",
   "execution_count": 30,
   "metadata": {},
   "outputs": [
    {
     "data": {
      "text/plain": [
       "[('close_loans_cnt', 0.048615717199515317),\n",
       " ('TraderKey', 0.049564428444146665),\n",
       " ('payment_type_0', 0.0019650063782175871),\n",
       " ('payment_type_1', 0.020995279074415844),\n",
       " ('payment_type_2', 0.059247080213672476),\n",
       " ('payment_type_3', 0.031988216145023694),\n",
       " ('payment_type_4', 0.0015512146045797623),\n",
       " ('payment_type_5', 0.0),\n",
       " ('age', 0.11362825480975122),\n",
       " ('gender', 0.015496957464726367),\n",
       " ('first_loan_year', 0.012128382307684824),\n",
       " ('first_loan_month', 0.064183853253590301),\n",
       " ('first_loan_day', 0.08947697989643083),\n",
       " ('rep_loan_date_year', 0.01678026224076665),\n",
       " ('rep_loan_date_month', 0.061381042256457068),\n",
       " ('rep_loan_date_day', 0.087413733936029275),\n",
       " ('first_overdue_year', 0.009316715654163343),\n",
       " ('first_overdue_month', 0.022217689910850283),\n",
       " ('first_overdue_day', 0.016371773625675552),\n",
       " ('Difference', 0.026898282588421373),\n",
       " ('Recurrence', 0.14279000517952586),\n",
       " ('federal_district_nm_region_0', 0.008114796913167726),\n",
       " ('federal_district_nm_region_1', 0.0074712391970870491),\n",
       " ('federal_district_nm_region_2', 0.010233681569853562),\n",
       " ('federal_district_nm_region_3', 0.015438698964445654),\n",
       " ('federal_district_nm_region_4', 0.014590070505225088),\n",
       " ('federal_district_nm_region_5', 0.0069083711739495067),\n",
       " ('federal_district_nm_region_6', 0.011352971342675756),\n",
       " ('federal_district_nm_region_7', 0.0029618314345599321),\n",
       " ('dpd_5_cnt_0.0', 0.00015327503563830231),\n",
       " ('dpd_5_cnt_1.0', 0.0044938082312437648),\n",
       " ('dpd_5_cnt_2.0', 0.0035492832193940236),\n",
       " ('dpd_5_cnt_3.0', 0.0017285920453509987),\n",
       " ('dpd_5_cnt_4.0', 0.00073557912557314573),\n",
       " ('dpd_5_cnt_5.0', 0.00045101421282558465),\n",
       " ('dpd_5_cnt_6.0', 0.00021025859232230628),\n",
       " ('dpd_5_cnt_7.0', 0.0),\n",
       " ('dpd_15_cnt_0.0', 0.0029251478011399078),\n",
       " ('dpd_15_cnt_1.0', 0.005447411378356316),\n",
       " ('dpd_15_cnt_2.0', 0.0015620576173040388),\n",
       " ('dpd_15_cnt_3.0', 0.00031783116324843536),\n",
       " ('dpd_15_cnt_4.0', 0.00021174303610067924),\n",
       " ('dpd_15_cnt_5.0', 7.1234162866497946e-05),\n",
       " ('dpd_30_cnt_0.0', 0.0046117369393890708),\n",
       " ('dpd_30_cnt_1.0', 0.0033836270377940059),\n",
       " ('dpd_30_cnt_2.0', 0.0010549466880121652),\n",
       " ('dpd_30_cnt_3.0', 9.9174288322849983e-06)]"
      ]
     },
     "execution_count": 30,
     "metadata": {},
     "output_type": "execute_result"
    }
   ],
   "source": [
    "list(zip(X_train, model2.feature_importances_))"
   ]
  },
  {
   "cell_type": "code",
   "execution_count": 31,
   "metadata": {},
   "outputs": [
    {
     "data": {
      "image/png": "[encoded data removed]",
      "text/plain": [
       "<Figure size 432x288 with 1 Axes>"
      ]
     },
     "metadata": {},
     "output_type": "display_data"
    }
   ],
   "source": [
    "logit_roc_auc2 = roc_auc_score(y_test, model2.predict(X_test))\n",
    "fpr2, tpr2, thresholds2 = roc_curve(y_test, model2.predict_proba(X_test)[:,1])\n",
    "plt.figure()\n",
    "plt.plot(fpr2, tpr2, label='Random Forest (area = %0.2f)' % logit_roc_auc2)\n",
    "plt.plot([0, 1], [0, 1],'r--')\n",
    "plt.xlim([0.0, 1.0])\n",
    "plt.ylim([0.0, 1.05])\n",
    "plt.xlabel('False Positive Rate')\n",
    "plt.ylabel('True Positive Rate')\n",
    "plt.title('Receiver operating characteristic')\n",
    "plt.legend(loc=\"lower right\")\n",
    "plt.savefig('Random_Forest_ROC')\n",
    "plt.show()"
   ]
  },
  {
   "cell_type": "markdown",
   "metadata": {},
   "source": [
    "# XGboost Classification"
   ]
  },
  {
   "cell_type": "code",
   "execution_count": 32,
   "metadata": {},
   "outputs": [
    {
     "name": "stdout",
     "output_type": "stream",
     "text": [
      "Accuracy for XGBoost: 97.06\n"
     ]
    }
   ],
   "source": [
    "model3 = xgboost.XGBClassifier(\n",
    " learning_rate =0.1,\n",
    " n_estimators=1000,\n",
    " max_depth=5,\n",
    " min_child_weight=1,\n",
    " gamma=0,\n",
    " subsample=0.8,\n",
    " colsample_bytree=0.8,\n",
    " objective= 'binary:logistic',\n",
    " nthread=4,\n",
    " scale_pos_weight=1,\n",
    " seed=27)\n",
    "\n",
    "model3.fit(X_train, y_train)\n",
    "y_pred3 = model3.predict(X_test)\n",
    "print(\"Accuracy for XGBoost: %.2f\" % (model3.score(X_test, y_test) * 100))"
   ]
  },
  {
   "cell_type": "code",
   "execution_count": 33,
   "metadata": {},
   "outputs": [
    {
     "name": "stdout",
     "output_type": "stream",
     "text": [
      "10-fold cross validation average accuracy: 96.708\n"
     ]
    }
   ],
   "source": [
    "# evaluate the model using 10-fold cross-validation\n",
    "results = model_selection.cross_val_score(model3, X_train, y_train, cv=10, scoring='accuracy')\n",
    "print(\"10-fold cross validation average accuracy: %.3f\" % (results.mean()* 100))"
   ]
  },
  {
   "cell_type": "code",
   "execution_count": 34,
   "metadata": {},
   "outputs": [
    {
     "name": "stdout",
     "output_type": "stream",
     "text": [
      "[[718  44]\n",
      " [  0 734]]\n"
     ]
    }
   ],
   "source": [
    "from sklearn.metrics import confusion_matrix\n",
    "confusion_matrix = confusion_matrix(y_test, y_pred3)\n",
    "print(confusion_matrix)"
   ]
  },
  {
   "cell_type": "code",
   "execution_count": 35,
   "metadata": {},
   "outputs": [
    {
     "name": "stdout",
     "output_type": "stream",
     "text": [
      "             precision    recall  f1-score   support\n",
      "\n",
      "          0       1.00      0.94      0.97       762\n",
      "          1       0.94      1.00      0.97       734\n",
      "\n",
      "avg / total       0.97      0.97      0.97      1496\n",
      "\n"
     ]
    }
   ],
   "source": [
    "print(classification_report(y_test, y_pred3))"
   ]
  },
  {
   "cell_type": "code",
   "execution_count": 36,
   "metadata": {},
   "outputs": [
    {
     "data": {
      "image/png": "[encoded data removed]",
      "text/plain": [
       "<Figure size 432x288 with 1 Axes>"
      ]
     },
     "metadata": {},
     "output_type": "display_data"
    }
   ],
   "source": [
    "logit_roc_auc3 = roc_auc_score(y_test, model3.predict(X_test))\n",
    "fpr3, tpr3, thresholds3 = roc_curve(y_test, model3.predict_proba(X_test)[:,1])\n",
    "plt.figure()\n",
    "plt.plot(fpr3, tpr3, label='XGboost (area = %0.2f)' % logit_roc_auc3)\n",
    "plt.plot([0, 1], [0, 1],'r--')\n",
    "plt.xlim([0.0, 1.0])\n",
    "plt.ylim([0.0, 1.05])\n",
    "plt.xlabel('False Positive Rate')\n",
    "plt.ylabel('True Positive Rate')\n",
    "plt.title('Receiver operating characteristic')\n",
    "plt.legend(loc=\"lower right\")\n",
    "plt.savefig('XGboost_ROC')\n",
    "plt.show()"
   ]
  },
  {
   "cell_type": "markdown",
   "metadata": {},
   "source": [
    "# SVM classifier"
   ]
  },
  {
   "cell_type": "code",
   "execution_count": null,
   "metadata": {},
   "outputs": [],
   "source": [
    "from sklearn import svm\n",
    "from sklearn.model_selection import GridSearchCV\n",
    "# Set the parameters to try\n",
    "# Gaussian radial basis function kernel\n",
    "tuned_parameters = [{'kernel': ['rbf'], 'gamma': [1e-3, 1e-4],\n",
    "                     'C': [1, 10, 100, 1000]},\n",
    "                    {'kernel': ['linear'], 'C': [1, 10, 100, 1000]}]\n",
    "scores = ['precision', 'recall']\n",
    "\n",
    "for score in scores:\n",
    "    print(\"# Tuning hyper-parameters for %s\" % score)\n",
    "    model4 = svm.SVC()\n",
    "    model4 = GridSearchCV(model4, tuned_parameters, cv=5, scoring='%s_macro' % score)\n",
    "    model4.fit(X_train, y_train)\n",
    "\n",
    "    print(\"\\nBest parameters set found on development set: %r\" % (model4.best_params_))\n",
    "    print(\"Grid scores on development set:\\n\")\n",
    "\n",
    "    means = model4.cv_results_['mean_test_score']\n",
    "    stds = model4.cv_results_['std_test_score']\n",
    "    for mean, std, params in zip(means, stds, model4.cv_results_['params']):\n",
    "        print(\"%0.3f (+/-%0.03f) for %r\" % (mean, std * 2, params))\n",
    "    print(\"\\n Detailed classification report:\\n\")\n",
    "    print(\"The model is trained on the full development set.\")\n",
    "    print(\"The scores are computed on the full evaluation set.\\n\")\n",
    "    \n",
    "    y_pred4 = model4.predict(X_test)\n",
    "    print(classification_report(y_test, y_pred4))\n",
    "    print()"
   ]
  },
  {
   "cell_type": "code",
   "execution_count": 38,
   "metadata": {},
   "outputs": [
    {
     "name": "stdout",
     "output_type": "stream",
     "text": [
      "Accuracy for support vector classifier: 93.52\n"
     ]
    }
   ],
   "source": [
    "from sklearn import svm\n",
    "#Training with the best parameters: {'C': 1, 'kernel': 'linear'}\n",
    "model4 = svm.SVC(C = 1000, kernel='rbf', gamma = 0.001, probability=True)\n",
    "model4.fit(X_train, y_train)\n",
    "y_pred4 = model4.predict(X_test)\n",
    "print(\"Accuracy for support vector classifier: %.2f\" % (model4.score(X_test, y_test) * 100))"
   ]
  },
  {
   "cell_type": "code",
   "execution_count": 39,
   "metadata": {},
   "outputs": [
    {
     "name": "stdout",
     "output_type": "stream",
     "text": [
      "[[669  93]\n",
      " [  4 730]]\n"
     ]
    }
   ],
   "source": [
    "from sklearn.metrics import confusion_matrix\n",
    "confusion_matrix = confusion_matrix(y_test, y_pred4)\n",
    "print(confusion_matrix)"
   ]
  },
  {
   "cell_type": "code",
   "execution_count": 40,
   "metadata": {},
   "outputs": [
    {
     "name": "stdout",
     "output_type": "stream",
     "text": [
      "             precision    recall  f1-score   support\n",
      "\n",
      "          0       0.99      0.88      0.93       762\n",
      "          1       0.89      0.99      0.94       734\n",
      "\n",
      "avg / total       0.94      0.94      0.94      1496\n",
      "\n"
     ]
    }
   ],
   "source": [
    "print(classification_report(y_test, y_pred4))"
   ]
  },
  {
   "cell_type": "code",
   "execution_count": 41,
   "metadata": {},
   "outputs": [
    {
     "data": {
      "image/png": "[encoded data removed]",
      "text/plain": [
       "<Figure size 432x288 with 1 Axes>"
      ]
     },
     "metadata": {},
     "output_type": "display_data"
    }
   ],
   "source": [
    "logit_roc_auc4 = roc_auc_score(y_test, model4.predict(X_test))\n",
    "fpr4, tpr4, thresholds4 = roc_curve(y_test, model4.predict_proba(X_test)[:,1])\n",
    "plt.figure()\n",
    "plt.plot(fpr4, tpr4, label='SVC (area = %0.2f)' % logit_roc_auc4)\n",
    "plt.plot([0, 1], [0, 1],'r--')\n",
    "plt.xlim([0.0, 1.0])\n",
    "plt.ylim([0.0, 1.05])\n",
    "plt.xlabel('False Positive Rate')\n",
    "plt.ylabel('True Positive Rate')\n",
    "plt.title('Receiver operating characteristic')\n",
    "plt.legend(loc = \"lower right\")\n",
    "plt.savefig('SVC_ROC')\n",
    "plt.show()"
   ]
  },
  {
   "cell_type": "markdown",
   "metadata": {},
   "source": [
    "# Summary"
   ]
  },
  {
   "cell_type": "code",
   "execution_count": 42,
   "metadata": {},
   "outputs": [
    {
     "data": {
      "text/plain": [
       "<matplotlib.legend.Legend at 0x1a215dfef0>"
      ]
     },
     "execution_count": 42,
     "metadata": {},
     "output_type": "execute_result"
    },
    {
     "data": {
      "image/png": "[encoded data removed]",
      "text/plain": [
       "<Figure size 432x288 with 1 Axes>"
      ]
     },
     "metadata": {},
     "output_type": "display_data"
    }
   ],
   "source": [
    "from sklearn import metrics\n",
    "import numpy as np\n",
    "import matplotlib.pyplot as plt\n",
    "\n",
    "plt.figure(0).clf()\n",
    "\n",
    "pred = np.random.rand(1000)\n",
    "label = np.random.randint(2, size=1000)\n",
    "fpr1, tpr1, thresholds1 = roc_curve(y_test, model1.predict_proba(X_test)[:,1])\n",
    "auc1 = roc_auc_score(y_test, model1.predict(X_test))\n",
    "plt.plot(fpr1,tpr1,label=\"Logistic regression, auc=\"+str(auc1))\n",
    "\n",
    "pred = np.random.rand(1000)\n",
    "label = np.random.randint(2, size=1000)\n",
    "fpr2, tpr2, thresholds2 = roc_curve(y_test, model2.predict_proba(X_test)[:,1])\n",
    "auc2 = roc_auc_score(y_test, model2.predict(X_test))\n",
    "plt.plot(fpr2,tpr2,label=\"Random forest, auc=\"+str(auc2))\n",
    "\n",
    "\n",
    "pred = np.random.rand(1000)\n",
    "label = np.random.randint(2, size=1000)\n",
    "fpr3, tpr3, thresholds3 = roc_curve(y_test, model3.predict_proba(X_test)[:,1])\n",
    "auc3 = roc_auc_score(y_test, model3.predict(X_test))\n",
    "plt.plot(fpr3,tpr3,label=\"XGBoost, auc=\"+str(auc3))\n",
    "\n",
    "\n",
    "pred = np.random.rand(1000)\n",
    "label = np.random.randint(2, size=1000)\n",
    "fpr4, tpr4, thresholds4 = roc_curve(y_test, model4.predict_proba(X_test)[:,1])\n",
    "auc4 = roc_auc_score(y_test, model4.predict(X_test))\n",
    "plt.plot(fpr4,tpr4,label=\"SVC, auc=\"+str(auc4))\n",
    "\n",
    "\n",
    "plt.plot([0, 1], [0, 1],'r--')\n",
    "plt.xlim([0.0, 1.0])\n",
    "plt.ylim([0.0, 1.05])\n",
    "plt.xlabel('False Positive Rate')\n",
    "plt.ylabel('True Positive Rate')\n",
    "plt.title('Receiver operating characteristic')\n",
    "plt.legend(loc=\"lower right\")\n",
    "plt.savefig('Total_ROC')\n",
    "\n",
    "plt.legend(loc=0)"
   ]
  },
  {
   "cell_type": "code",
   "execution_count": 43,
   "metadata": {},
   "outputs": [],
   "source": [
    "# define a function that accepts a threshold and prints sensitivity and specificity\n",
    "def evaluate_threshold(threshold2):\n",
    "    print('Sensitivity:', tpr2[thresholds2 > threshold2][-1])\n",
    "    print('Specificity:', 1 - fpr2[thresholds2 > threshold2][-1])"
   ]
  },
  {
   "cell_type": "code",
   "execution_count": 44,
   "metadata": {},
   "outputs": [
    {
     "name": "stdout",
     "output_type": "stream",
     "text": [
      "Sensitivity: 0.99727520436\n",
      "Specificity: 1.0\n"
     ]
    }
   ],
   "source": [
    "evaluate_threshold(0.8)\n",
    "# Sensitivity - true positive rate - defaults correctly identified\n",
    "# Specificity - false positive rate - good loans correctly identified"
   ]
  },
  {
   "cell_type": "code",
   "execution_count": 45,
   "metadata": {},
   "outputs": [
    {
     "name": "stdout",
     "output_type": "stream",
     "text": [
      "Sensitivity: 1.0\n",
      "Specificity: 0.89501312336\n"
     ]
    }
   ],
   "source": [
    "evaluate_threshold(0.33)\n",
    "# Sensitivity - true positive rate - defaults correctly identified\n",
    "# Specificity - false positive rate - good loans correctly identified"
   ]
  },
  {
   "cell_type": "code",
   "execution_count": null,
   "metadata": {},
   "outputs": [],
   "source": []
  }
 ],
 "metadata": {
  "kernelspec": {
   "display_name": "Python 3",
   "language": "python",
   "name": "python3"
  },
  "language_info": {
   "codemirror_mode": {
    "name": "ipython",
    "version": 3
   },
   "file_extension": ".py",
   "mimetype": "text/x-python",
   "name": "python",
   "nbconvert_exporter": "python",
   "pygments_lexer": "ipython3",
   "version": "3.6.5"
  }
 },
 "nbformat": 4,
 "nbformat_minor": 2
}
